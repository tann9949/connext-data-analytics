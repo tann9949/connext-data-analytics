{
 "cells": [
  {
   "cell_type": "code",
   "execution_count": 1,
   "id": "993174c2-5e1f-4143-a77f-55c0b38dbdb6",
   "metadata": {},
   "outputs": [
    {
     "name": "stdout",
     "output_type": "stream",
     "text": [
      "/Users/chompk.visai/Works/cdao/connext/connext-galxe-analytics\n"
     ]
    }
   ],
   "source": [
    "%reload_ext autoreload\n",
    "%autoreload 2\n",
    "\n",
    "%cd /Users/chompk.visai/Works/cdao/connext/connext-galxe-analytics/"
   ]
  },
  {
   "cell_type": "code",
   "execution_count": 2,
   "id": "d88b9366-470d-4581-a001-0da7ffe66748",
   "metadata": {},
   "outputs": [
    {
     "data": {
      "text/plain": [
       "True"
      ]
     },
     "execution_count": 2,
     "metadata": {},
     "output_type": "execute_result"
    }
   ],
   "source": [
    "import logging\n",
    "from datetime import datetime, timedelta\n",
    "from typing import Dict, List, Optional\n",
    "\n",
    "import matplotlib.pyplot as plt\n",
    "import numpy as np\n",
    "import pandas as pd\n",
    "from dotenv import load_dotenv\n",
    "from tqdm.auto import tqdm\n",
    "\n",
    "from api.connext import ConnextAPI, ConnextLPTransferAPI\n",
    "from api.contract import SmartContract\n",
    "from api.constant import Chain\n",
    "from api.token import Token\n",
    "from api.price import WETHPriceFetcher\n",
    "load_dotenv(\".env\")"
   ]
  },
  {
   "cell_type": "markdown",
   "id": "cbef5bda-3948-4729-827e-d0fd2eb45e66",
   "metadata": {
    "tags": []
   },
   "source": [
    "## Define Functions"
   ]
  },
  {
   "cell_type": "code",
   "execution_count": 3,
   "id": "4c408a98-b320-4d0e-8a56-2850c1381283",
   "metadata": {
    "tags": []
   },
   "outputs": [],
   "source": [
    "logging.basicConfig(level=logging.INFO)\n",
    "\n",
    "\n",
    "def unix_to_datetime(ts: int) -> datetime:\n",
    "    return datetime.utcfromtimestamp(int(ts))\n",
    "    \n",
    "\n",
    "def get_abis():\n",
    "    erc20_abi = Token.address_mapper[Chain.GNOSIS][\"canonical\"][Token.USDC].abi\n",
    "    diamond_abi = ConnextAPI().scan_api[Chain.GNOSIS].diamond_contract.abi\n",
    "    return erc20_abi + diamond_abi\n",
    "\n",
    "\n",
    "def get_topic_resolver():\n",
    "    diamond = ConnextAPI().scan_api[Chain.GNOSIS].diamond_contract\n",
    "    \n",
    "    topic2sig = {}\n",
    "    for abi in get_abis():\n",
    "        name = abi[\"name\"]\n",
    "        inputs = \",\".join([_item[\"type\"] for _item in abi[\"inputs\"]])\n",
    "        sig = f\"{name}({inputs})\"\n",
    "        topic_id = diamond.provider.toHex(diamond.provider.keccak(text=sig))\n",
    "\n",
    "        topic2sig[topic_id] = [name] + [_item[\"type\"] for _item in abi[\"inputs\"]]\n",
    "    return topic2sig\n",
    "\n",
    "\n",
    "def resolve_address(address: str) -> str:\n",
    "    \"\"\"ensure padding to length of 40 (excluded 0x)\"\"\"\n",
    "    hex_code = address.replace(\"0x\", \"\")\n",
    "    if len(hex_code) < 40:\n",
    "        n_zeros = 40 - len(hex_code)\n",
    "        hex_code = \"0\" * n_zeros + hex_code\n",
    "    resolved_address = \"0x\" + hex_code\n",
    "    assert len(resolved_address) == 42\n",
    "    return resolved_address\n",
    "\n",
    "\n",
    "def get_lp_txs(\n",
    "    data: pd.DataFrame,\n",
    "    transfers: pd.DataFrame,\n",
    "    chains: List[Chain] = [Chain.POLYGON, Chain.ARBITRUM_ONE, Chain.BNB_CHAIN, Chain.GNOSIS, Chain.OPTIMISM],\n",
    "    filter_topics: List[str] = [\"Transfer\"],\n",
    "    filter_function: List[str] = [\"addSwapLiquidity\", \"removeSwapLiquidity\"],\n",
    "    blacklist_token: List[str] = [],) -> pd.DataFrame:\n",
    "    \"\"\"Get txs involved with add/remove stable liquidity\"\"\"\n",
    "    lp_txs = []\n",
    "    topic2sig = get_topic_resolver()\n",
    "\n",
    "    # iterate over chains that support liquidity providing\n",
    "    for chain in chains:\n",
    "        lp_tokens = [Token.get_lp(chain, _token).address.lower() for _token in [Token.USDC, Token.WETH]]\n",
    "        provider = SmartContract.get_default_provider(chain)\n",
    "        # iterate over txn\n",
    "        for tx in data[chain]:\n",
    "            # skip transactions that aren't liquidity providing related\n",
    "            fn_name = tx.functionName.split(\"(\")[0]\n",
    "            if fn_name not in filter_function:\n",
    "                continue\n",
    "\n",
    "            for _log in tx.logs:\n",
    "                topic, *topic_args = _log[\"topics\"]\n",
    "                topic_items = topic2sig.get(topic)\n",
    "\n",
    "                # skip unknown topic name\n",
    "                if topic_items is None:\n",
    "                    continue\n",
    "\n",
    "                topic_name, *topic_params = topic_items\n",
    "\n",
    "                # filter unwanted topic\n",
    "                if topic_name not in filter_topics:\n",
    "                    continue\n",
    "\n",
    "                # skip blacklist address\n",
    "                if _log[\"address\"].lower() in list(map(lambda x: x.lower(), blacklist_token)):\n",
    "                    continue\n",
    "\n",
    "                # for Transfer\n",
    "                sender, receiver = topic_args\n",
    "                sender = hex(int(sender, 16))\n",
    "                receiver = hex(int(receiver, 16))\n",
    "                token = Token.address_lookup(_log[\"address\"], chain)\n",
    "                amount = int(_log[\"data\"], 16) / (10**token.decimal)\n",
    "\n",
    "                if sender == \"0x0\":\n",
    "                    action = \"mint\"\n",
    "                    user = receiver\n",
    "                elif receiver == \"0x0\":\n",
    "                    action = \"burn\"\n",
    "                    user = sender\n",
    "                else:\n",
    "                    # let's focus on mint/burn count\n",
    "                    # as criteria will be selected \n",
    "                    # based on CLP anyway\n",
    "                    continue\n",
    "\n",
    "                lp_txs.append({\n",
    "                    \"chain\": chain,\n",
    "                    \"tx_hash\": tx.hash,\n",
    "                    \"sender\": resolve_address(sender),\n",
    "                    \"receiver\": resolve_address(receiver),\n",
    "                    \"token\": token.symbol,\n",
    "                    \"amount\": amount,\n",
    "                    \"action\": action,\n",
    "                    \"fn_name\": fn_name,\n",
    "                    \"user\": resolve_address(user),\n",
    "                    \"timestamp\": int(tx.timeStamp)\n",
    "                })\n",
    "                \n",
    "        for tx in transfers[chain]:\n",
    "            # iterate over transfer logs\n",
    "            for _log in tx.logs:\n",
    "                topic, *topic_args = _log[\"topics\"]\n",
    "                topic_items = topic2sig.get(topic)\n",
    "\n",
    "                # skip unknown topic name\n",
    "                if topic_items is None:\n",
    "                    continue\n",
    "\n",
    "                topic_name, *topic_params = topic_items\n",
    "\n",
    "                # filter unwanted topic\n",
    "                if topic_name not in filter_topics:\n",
    "                    continue\n",
    "\n",
    "                # skip blacklist address\n",
    "                if _log[\"address\"].lower() not in lp_tokens:\n",
    "                # if _log[\"address\"].lower() in list(map(lambda x: x.lower(), blacklist_token)):\n",
    "                    # skip if transfer aren't LP token\n",
    "                    continue\n",
    "\n",
    "                # for Transfer\n",
    "                sender, receiver = topic_args\n",
    "                sender = hex(int(sender, 16))\n",
    "                receiver = hex(int(receiver, 16))\n",
    "                token = Token.address_lookup(_log[\"address\"], chain)\n",
    "                if token is None:\n",
    "                    continue\n",
    "                amount = int(_log[\"data\"], 16) / (10**token.decimal)\n",
    "\n",
    "                lp_txs.append({\n",
    "                    \"chain\": chain,\n",
    "                    \"tx_hash\": tx.hash,\n",
    "                    \"sender\": resolve_address(sender),\n",
    "                    \"receiver\": resolve_address(receiver),\n",
    "                    \"token\": token.symbol,\n",
    "                    \"amount\": amount,\n",
    "                    \"action\": \"transfer_out\",\n",
    "                    \"fn_name\": \"Transfer\",\n",
    "                    \"user\": resolve_address(sender),\n",
    "                    \"timestamp\": int(tx.timeStamp)\n",
    "                })\n",
    "\n",
    "                lp_txs.append({\n",
    "                    \"chain\": chain,\n",
    "                    \"tx_hash\": tx.hash,\n",
    "                    \"sender\": resolve_address(sender),\n",
    "                    \"receiver\": resolve_address(receiver),\n",
    "                    \"token\": token.symbol,\n",
    "                    \"amount\": amount,\n",
    "                    \"action\": \"transfer_in\",\n",
    "                    \"fn_name\": \"Transfer\",\n",
    "                    \"user\": resolve_address(receiver),\n",
    "                    \"timestamp\": int(tx.timeStamp)\n",
    "                })\n",
    "\n",
    "    lp_txs = pd.DataFrame(lp_txs).sort_values(\"timestamp\")\n",
    "    lp_txs[\"balance_change\"] = lp_txs[\"amount\"] * lp_txs[\"action\"].map(lambda x: 1 if x in [\"mint\", \"transfer_in\"] else -1)\n",
    "    lp_txs[\"time\"] = lp_txs[\"timestamp\"].map(unix_to_datetime)\n",
    "    lp_txs = lp_txs.drop(\"timestamp\", axis=1).set_index(\"time\").sort_index()\n",
    "    return lp_txs\n",
    "\n",
    "\n",
    "def join_price(\n",
    "    liquidity_txs: pd.DataFrame, \n",
    "    hourly_price: pd.Series) -> pd.DataFrame:\n",
    "    \"\"\"Join pric to liquidity txs\"\"\"\n",
    "    if isinstance(hourly_price, pd.Series):\n",
    "        hourly_price = pd.DataFrame(hourly_price)\n",
    "        \n",
    "    usdc_txs = liquidity_txs[liquidity_txs[\"token\"] == Token.CUSDCLP].copy()\n",
    "    weth_txs = liquidity_txs[liquidity_txs[\"token\"] == Token.CWETHLP].copy()\n",
    "    \n",
    "    usdc_txs[\"price\"] = 1.\n",
    "    \n",
    "    hourly_price[\"join_key\"] = hourly_price.index.strftime(\"%Y%m%d%H\")\n",
    "    weth_txs[\"join_key\"] = weth_txs.index.strftime(\"%Y%m%d%H\")\n",
    "    merged_weth_txs = pd.merge(\n",
    "        weth_txs, \n",
    "        hourly_price, how=\"left\", on=\"join_key\")\n",
    "    merged_weth_txs.index = weth_txs.index\n",
    "    merged_weth_txs = merged_weth_txs.drop(\"join_key\", axis=1)\n",
    "    \n",
    "    merged_df = pd.concat([usdc_txs, merged_weth_txs], axis=0).sort_index()\n",
    "    merged_df[\"lp_value\"] = merged_df[\"price\"] * merged_df[\"amount\"]\n",
    "    merged_df[\"lp_value_change\"] = merged_df[\"lp_value\"] * merged_df[\"action\"].map(lambda x: -1 if x in [\"mint\", \"transfer_in\"] else -1)\n",
    "    \n",
    "    return merged_df"
   ]
  },
  {
   "cell_type": "code",
   "execution_count": 4,
   "id": "88a685c7-54e7-4660-886f-4bfd175ec46a",
   "metadata": {
    "tags": []
   },
   "outputs": [],
   "source": [
    "def in_date(time: datetime, date: str) -> bool:\n",
    "    min_dt = datetime.strptime(date, \"%Y-%m-%d\")\n",
    "    max_dt = min_dt + timedelta(hours=24)\n",
    "    return min_dt <= time < max_dt\n",
    "\n",
    "\n",
    "def get_daily_txn(df: pd.DataFrame, chain: Chain, date: str) -> pd.DataFrame:\n",
    "    \"\"\"Filter transactions for each specific chain and date.\n",
    "    Date should be in DD-MM-YYYY format\"\"\"\n",
    "    df = df[df[\"chain\"] == chain]\n",
    "    return df[df.index.map(lambda x: in_date(x, date=date))]\n",
    "\n",
    "\n",
    "def get_unique_wallets(df: pd.DataFrame) -> Dict[str, List[str]]:\n",
    "    wallets = {chain: [] for chain in df[\"chain\"].value_counts().index}\n",
    "\n",
    "    for chain in df[\"chain\"].value_counts().index:\n",
    "        wallets[chain] = [\n",
    "            _wallet for _wallet\n",
    "            in df[df[\"chain\"] == chain][\"user\"].value_counts().index.tolist()\n",
    "            if len(_wallet) > 3]\n",
    "        \n",
    "    return wallets\n",
    "\n",
    "\n",
    "def get_top_lp_holders_by_pool_and_chain(df: pd.DataFrame, chain: Chain, token: Token) -> pd.Series:\n",
    "    is_correct_chain = df[\"chain\"] == chain\n",
    "    is_correct_token = df[\"token\"] == token\n",
    "    is_correct_fn = df[\"action\"].isin([\"mint\", \"burn\", \"transfer_in\", \"transfer_out\"])\n",
    "    df_filter = is_correct_chain & is_correct_token & is_correct_fn\n",
    "    filtered_df = df[df_filter].groupby([\"user\"])[\"balance_change\"].sum().sort_values(ascending=False)\n",
    "    return filtered_df\n",
    "\n",
    "\n",
    "def get_top_lp_holders_by_chain(\n",
    "    df: pd.DataFrame, \n",
    "    chain: Chain, \n",
    "    min_usdc: float = 0.) -> pd.Series:\n",
    "    is_correct_chain = df[\"chain\"] == chain\n",
    "    is_correct_fn = df[\"action\"].isin([\"mint\", \"burn\", \"transfer_in\", \"transfer_out\"])\n",
    "    df_filter = is_correct_chain & is_correct_fn\n",
    "    return df[df_filter].groupby([\"user\"])[\"lp_value_change\"].sum().sort_values(ascending=False)"
   ]
  },
  {
   "cell_type": "code",
   "execution_count": 53,
   "id": "b81108bf-7824-4e70-a03e-93bb9aecf851",
   "metadata": {
    "tags": []
   },
   "outputs": [],
   "source": [
    "def get_scores_by_chain_token(\n",
    "    chain: Chain, \n",
    "    token: Token, \n",
    "    start_date: str = \"2023-02-15\", \n",
    "    resample_method: str = \"last\") -> pd.Series:\n",
    "    start_date = datetime.strptime(start_date, \"%Y-%m-%d\")\n",
    "    end_date = datetime.now()\n",
    "\n",
    "    supported_resample = [\"mean\", \"median\", \"mode\", \"max\", \"last\"]\n",
    "    if resample_method not in supported_resample:\n",
    "        raise ValueError(f\"Unknown {resample_method}, only {'|'.join(supported_resample)}\")\n",
    "\n",
    "    is_correct_chain = lp_txs[\"chain\"] == chain\n",
    "    is_correct_token = lp_txs[\"token\"] == token\n",
    "    is_correct_fn = lp_txs[\"action\"].isin([\"mint\", \"burn\", \"transfer_in\", \"transfer_out\"])\n",
    "    df_filter = is_correct_chain & is_correct_token & is_correct_fn\n",
    "    filtered_txs = lp_txs[df_filter]\n",
    "\n",
    "    wallet_stats = []\n",
    "    wallets = filtered_txs[\"user\"].unique()\n",
    "    for wallet in tqdm(wallets, leave=False):\n",
    "        wallet_tx = filtered_txs[\n",
    "            (filtered_txs[\"user\"] == wallet)]\n",
    "        wallet_balance = wallet_tx[\"balance_change\"].copy().cumsum()\n",
    "        if ((wallet_balance.index < start_date + timedelta(days=1)) & (wallet_balance.index >= start_date)).sum() == 0:\n",
    "            # no LP tx on start date\n",
    "            wallet_balance.loc[start_date] = 0.\n",
    "        if not max(wallet_balance.index) > datetime.strptime(end_date.strftime(\"%Y-%m-%d\"), \"%Y-%m-%d\"):\n",
    "            # if there's no LP provided at end_date\n",
    "            wallet_balance.loc[end_date] = 0.\n",
    "\n",
    "        if resample_method == \"mean\":\n",
    "            wallet_balance = wallet_balance.resample(\"D\").mean().fillna(method=\"ffill\").cumsum()\n",
    "        elif resample_method == \"mode\":\n",
    "            wallet_balance = wallet_balance.resample(\"D\").mode().fillna(method=\"ffill\").cumsum()\n",
    "        elif resample_method == \"median\":\n",
    "            wallet_balance = wallet_balance.resample(\"D\").median().fillna(method=\"ffill\").cumsum()\n",
    "        elif resample_method == \"max\":\n",
    "            wallet_balance = wallet_balance.resample(\"D\").max().fillna(method=\"ffill\").cumsum()\n",
    "        elif resample_method == \"last\":\n",
    "            wallet_balance = wallet_balance.resample(\"D\").last().fillna(method=\"ffill\").cumsum()\n",
    "        # elif resample_method == \"random\":\n",
    "        #     pass\n",
    "            # wallet_balance = wallet_balance_change.resample(\"D\").apply(lambda x: x.sample(1)).fillna(0).cumsum()\n",
    "        else:\n",
    "            raise ValueError(resample_method)\n",
    "\n",
    "        score = wallet_balance.mean()\n",
    "        wallet_stats.append(score)\n",
    "    wallet_scores = pd.Series(wallet_stats, index=wallets, name=\"LP Score\").sort_values(ascending=False)\n",
    "    return wallet_scores[wallet_scores > 0]\n",
    "\n",
    "\n",
    "def get_wallet_stats(\n",
    "    wallet: str, \n",
    "    chain: Chain, \n",
    "    token: Token, \n",
    "    start_date: str = \"2023-02-15\") -> pd.Series:\n",
    "    start_date = datetime.strptime(start_date, \"%Y-%m-%d\")\n",
    "    end_date = datetime.now()\n",
    "\n",
    "    is_correct_chain = lp_txs[\"chain\"] == chain\n",
    "    is_correct_token = lp_txs[\"token\"] == token\n",
    "    is_correct_fn = lp_txs[\"action\"].isin([\"mint\", \"burn\", \"transfer_in\", \"transfer_out\"])\n",
    "    df_filter = is_correct_chain & is_correct_token & is_correct_fn\n",
    "    filtered_txs = lp_txs[df_filter]\n",
    "\n",
    "    wallet = wallet.lower().strip()\n",
    "    wallet_tx = filtered_txs[(filtered_txs[\"user\"] == wallet)]\n",
    "    wallet_balance_change = wallet_tx[\"balance_change\"].copy()\n",
    "    return wallet_balance_change"
   ]
  },
  {
   "cell_type": "code",
   "execution_count": null,
   "id": "ae793c04-e03a-4809-8bed-604a3d47e773",
   "metadata": {
    "tags": []
   },
   "outputs": [],
   "source": [
    "data_dir = \"data\"\n",
    "\n",
    "api = ConnextAPI(data_dir)\n",
    "transfer_api = ConnextLPTransferAPI(data_dir)\n",
    "fetcher = WETHPriceFetcher(data_dir)\n",
    "data = api.load_cache()\n",
    "transfers = transfer_api.load_cache()"
   ]
  },
  {
   "cell_type": "code",
   "execution_count": null,
   "id": "07b15a9c-d9d2-4ed5-abbd-7ef56e58d3ac",
   "metadata": {
    "tags": []
   },
   "outputs": [],
   "source": [
    "from typing import Union, Optional\n",
    "\n",
    "\n",
    "destination_domain = {\n",
    "    6648936: Chain.ETHEREUM,\n",
    "    1886350457: Chain.POLYGON,\n",
    "    1869640809: Chain.OPTIMISM,\n",
    "    1634886255: Chain.ARBITRUM_ONE,\n",
    "    6778479: Chain.GNOSIS,\n",
    "    6450786: Chain.BNB_CHAIN\n",
    "}\n",
    "\n",
    "def resolve_domain(domain_id: Union[int, str]) -> Optional[Chain]:\n",
    "    if isinstance(domain_id, str):\n",
    "        domain_id = int(domain_id)\n",
    "    return destination_domain.get(domain_id, None)"
   ]
  },
  {
   "cell_type": "code",
   "execution_count": 7,
   "id": "82593298-07cd-4cea-b8e5-0d3be866c262",
   "metadata": {
    "tags": []
   },
   "outputs": [],
   "source": [
    "watched_fn = [\"xcall\", \"xcallIntoLocal\"]"
   ]
  },
  {
   "cell_type": "code",
   "execution_count": 8,
   "id": "905e646d-38ef-4ed0-a956-98b1cf506cb8",
   "metadata": {
    "tags": []
   },
   "outputs": [],
   "source": [
    "xcall_tx = {chain: [] for chain in api.scan_api.keys()}\n",
    "for chain in xcall_tx.keys():\n",
    "    for _tx in data[chain]:\n",
    "        if _tx.functionName.split(\"(\")[0] not in watched_fn:\n",
    "            continue\n",
    "        _tx.input[\"_destination\"] = resolve_domain(_tx.input[\"_destination\"])\n",
    "        xcall_tx[chain].append(_tx)"
   ]
  },
  {
   "cell_type": "code",
   "execution_count": 13,
   "id": "7a2b1608-f7cc-48ba-a5be-ac12a14f9ad5",
   "metadata": {
    "tags": []
   },
   "outputs": [
    {
     "data": {
      "text/plain": [
       "'0x784f21ce9109cc82d7896ffe2393df37b92e5d292d11326634d2b862860d98c3'"
      ]
     },
     "execution_count": 13,
     "metadata": {},
     "output_type": "execute_result"
    }
   ],
   "source": [
    "xcall_tx[Chain.ETHEREUM][100].hash"
   ]
  },
  {
   "cell_type": "code",
   "execution_count": 14,
   "id": "0d90b313-ba8c-40af-a8cd-4ce95b3f16c7",
   "metadata": {
    "tags": []
   },
   "outputs": [
    {
     "data": {
      "text/plain": [
       "{'_destination': 'polygon',\n",
       " '_to': '0x1D1569E8ECb88C0cb35F8920649f1aa66173A8Bc',\n",
       " '_asset': '0xA0b86991c6218b36c1d19D4a2e9Eb0cE3606eB48',\n",
       " '_delegate': '0x1D1569E8ECb88C0cb35F8920649f1aa66173A8Bc',\n",
       " '_amount': 1000000000,\n",
       " '_slippage': 50,\n",
       " '_callData': ''}"
      ]
     },
     "execution_count": 14,
     "metadata": {},
     "output_type": "execute_result"
    }
   ],
   "source": [
    "xcall_tx[Chain.ETHEREUM][100].input"
   ]
  },
  {
   "cell_type": "code",
   "execution_count": null,
   "id": "9f02a773-e459-4427-8c94-8610072b856a",
   "metadata": {},
   "outputs": [],
   "source": []
  },
  {
   "cell_type": "code",
   "execution_count": 40,
   "id": "486283e3-92c0-4983-935b-3a71cc3acc60",
   "metadata": {
    "tags": []
   },
   "outputs": [
    {
     "data": {
      "text/plain": [
       "{'',\n",
       " 'addRelayer(address _relayer)',\n",
       " 'addRouterLiquidityFor(uint256 _amount,address _local,address _router)',\n",
       " 'addSequencer(address _sequencer)',\n",
       " 'addSwapLiquidity(bytes32 key,uint256[] amounts,uint256 minToMint,uint256 deadline)',\n",
       " 'approveRouter(address _router)',\n",
       " 'assignRoleAdmin(address _admin)',\n",
       " 'assignRoleRouterAdmin(address _router)',\n",
       " 'assignRoleWatcher(address _watcher)',\n",
       " 'bumpTransfer(bytes32 _transferId)',\n",
       " 'disableSwap(bytes32 _key)',\n",
       " 'enrollRemoteRouter(uint32 _domain,bytes32 _router)',\n",
       " 'forceReceiveLocal(tuple _params)',\n",
       " 'forceUpdateSlippage(tuple _params,uint256 _slippage)',\n",
       " 'initializeRouter(address _owner,address _recipient)',\n",
       " 'initializeSwap(bytes32 _key,address[] _pooledTokens,uint8[] decimals,string lpTokenName,string lpTokenSymbol,uint256 _a,uint256 _fee,uint256 _adminFee)',\n",
       " 'proposeDiamondCut(tuple[] _diamondCut,address _init,bytes _calldata)',\n",
       " 'proposeNewOwner(address newlyProposed)',\n",
       " 'removeRouterLiquidity(tuple _canonical,uint256 _amount,address _to)',\n",
       " 'removeRouterLiquidityFor(tuple _canonical,uint256 _amount,address _to,address _router)',\n",
       " 'removeSwap(bytes32 _key)',\n",
       " 'removeSwapLiquidity(bytes32 key,uint256 amount,uint256[] minAmounts,uint256 deadline)',\n",
       " 'setRelayerFeeVault(address _relayerFeeVault)',\n",
       " 'setupAsset(tuple _canonical,uint8 _canonicalDecimals,string _representationName,string _representationSymbol,address _adoptedAssetId,address _stableSwapPool,uint256 _cap)',\n",
       " 'swap(bytes32 key,uint8 tokenIndexFrom,uint8 tokenIndexTo,uint256 dx,uint256 minDy,uint256 deadline)',\n",
       " 'updateDetails(tuple _canonical,string _name,string _symbol)',\n",
       " 'xcall(uint32 _destination,address _to,address _asset,address _delegate,uint256 _amount,uint256 _slippage,bytes _callData)',\n",
       " 'xcallIntoLocal(uint32 _destination,address _to,address _asset,address _delegate,uint256 _amount,uint256 _slippage,bytes _callData)'}"
      ]
     },
     "execution_count": 40,
     "metadata": {},
     "output_type": "execute_result"
    }
   ],
   "source": [
    "set([tx.functionName for tx in data[Chain.OPTIMISM]])"
   ]
  },
  {
   "cell_type": "markdown",
   "id": "c949463b-f5dc-4668-83dc-10544198e34e",
   "metadata": {},
   "source": [
    "# LP Analysis "
   ]
  },
  {
   "cell_type": "markdown",
   "id": "bdf290c2-86e3-4bc1-a32d-247ad7845cbe",
   "metadata": {
    "tags": []
   },
   "source": [
    "## Loading LP Data"
   ]
  },
  {
   "cell_type": "code",
   "execution_count": 5,
   "id": "4eb039a2-56fd-42a1-bbd4-bcdde4b1f299",
   "metadata": {},
   "outputs": [],
   "source": [
    "data_dir = \"data\"\n",
    "\n",
    "api = ConnextAPI(data_dir)\n",
    "transfer_api = ConnextLPTransferAPI(data_dir)\n",
    "fetcher = WETHPriceFetcher(data_dir)\n",
    "data = api.load_cache()\n",
    "transfers = transfer_api.load_cache()"
   ]
  },
  {
   "cell_type": "code",
   "execution_count": 7,
   "id": "7b3382c4-78cc-4622-b33e-987ac4b5818e",
   "metadata": {
    "tags": []
   },
   "outputs": [],
   "source": [
    "price_data = fetcher.load_cache()\n",
    "price_data[\"date\"] = price_data[\"unixtime\"].map(unix_to_datetime)\n",
    "price_data = price_data.set_index(\"date\").sort_index()\n",
    "hourly_median_price = price_data.resample(\"H\").median()[\"price\"]"
   ]
  },
  {
   "cell_type": "code",
   "execution_count": 8,
   "id": "c27f89d6-d94a-4776-aa98-914b1f843e30",
   "metadata": {
    "tags": []
   },
   "outputs": [],
   "source": [
    "blacklist_token = [\n",
    "    \"0x36955Fb4Ba3618d5a13701f9bb4c2d17436Ca189\",  # deprecated polygon CUSDCLP\n",
    "    \"0x9890b51b117f765e9148A12902B0945Fa6d285E5\",  # deprecated arbitrum CUSDCLP\n",
    "    \"0xFcc933039AC59F8F16d18B61d99D75fE60A055e3\",  # deprecated BNB Chain CUSDCLP\n",
    "    \"0x1AF1b21323dB137603FC9eA8848053647B2C5B37\",  # deprecated Gnosis CUSDCLP\n",
    "    \"0x0EB37a910Cb5ac05Ed85C3Be5c2Af5dAf13311B9\",  # deprecated optimism CUSDCLP\n",
    "]\n",
    "lp_txs = get_lp_txs(data, transfers, blacklist_token=blacklist_token)\n",
    "lp_txs = join_price(lp_txs, hourly_median_price)"
   ]
  },
  {
   "cell_type": "code",
   "execution_count": 9,
   "id": "bb920831-f059-4e45-8147-d24eb67b7998",
   "metadata": {
    "tags": []
   },
   "outputs": [
    {
     "data": {
      "text/plain": [
       "mint            31008\n",
       "burn             6498\n",
       "transfer_in      1131\n",
       "transfer_out     1131\n",
       "Name: action, dtype: int64"
      ]
     },
     "execution_count": 9,
     "metadata": {},
     "output_type": "execute_result"
    }
   ],
   "source": [
    "lp_txs[\"action\"].value_counts()"
   ]
  },
  {
   "cell_type": "code",
   "execution_count": 10,
   "id": "3ebc675a-d228-4f85-a247-f6d493228562",
   "metadata": {
    "tags": []
   },
   "outputs": [],
   "source": [
    "dates = list({_item.strftime(\"%Y-%m-%d\") for _item in lp_txs.index})\n",
    "wallets = get_unique_wallets(lp_txs)"
   ]
  },
  {
   "cell_type": "code",
   "execution_count": 11,
   "id": "ddabc4e1-7213-4f32-8ea1-0ccc40020f0f",
   "metadata": {
    "tags": []
   },
   "outputs": [
    {
     "data": {
      "text/plain": [
       "{'arbitrum_one': 11565,\n",
       " 'polygon': 4858,\n",
       " 'optimism': 2368,\n",
       " 'bnb_chain': 1370,\n",
       " 'gnosis': 1036}"
      ]
     },
     "execution_count": 11,
     "metadata": {},
     "output_type": "execute_result"
    }
   ],
   "source": [
    "{_chain: len(addrs) for _chain, addrs in wallets.items()}"
   ]
  },
  {
   "cell_type": "markdown",
   "id": "621c6923-8a48-4660-8a4b-206169399f5d",
   "metadata": {},
   "source": [
    "Number of unique addresses for each chain"
   ]
  },
  {
   "cell_type": "code",
   "execution_count": 12,
   "id": "c05debd2-b15c-4d41-989c-29441f04f3b7",
   "metadata": {
    "tags": []
   },
   "outputs": [],
   "source": [
    "threshold = 0.3"
   ]
  },
  {
   "cell_type": "markdown",
   "id": "4b8c13bc-8032-482d-9f5d-4cf87cdc2566",
   "metadata": {},
   "source": [
    "### Ranking with averages (using TWAP scores)"
   ]
  },
  {
   "cell_type": "code",
   "execution_count": 28,
   "id": "d5d7fe95-2c19-44dd-b2ce-3c4b71f1ad28",
   "metadata": {
    "tags": []
   },
   "outputs": [],
   "source": [
    "query = \"0xCEdf866187680e70296a8b9EEce22A09b4F05798\".lower()"
   ]
  },
  {
   "cell_type": "code",
   "execution_count": 54,
   "id": "f276ab1c-d24c-4426-a4f5-e1290ed02ad1",
   "metadata": {
    "tags": []
   },
   "outputs": [
    {
     "name": "stdout",
     "output_type": "stream",
     "text": [
      "Chain: arbitrum_one\n"
     ]
    },
    {
     "data": {
      "application/vnd.jupyter.widget-view+json": {
       "model_id": "",
       "version_major": 2,
       "version_minor": 0
      },
      "text/plain": [
       "  0%|          | 0/6314 [00:00<?, ?it/s]"
      ]
     },
     "metadata": {},
     "output_type": "display_data"
    },
    {
     "name": "stdout",
     "output_type": "stream",
     "text": [
      "\tCWETHLP (1391/6306) :: min_score 1.23992614435093\n"
     ]
    },
    {
     "data": {
      "application/vnd.jupyter.widget-view+json": {
       "model_id": "",
       "version_major": 2,
       "version_minor": 0
      },
      "text/plain": [
       "  0%|          | 0/5845 [00:00<?, ?it/s]"
      ]
     },
     "metadata": {},
     "output_type": "display_data"
    },
    {
     "name": "stdout",
     "output_type": "stream",
     "text": [
      "\tCUSDCLP (1391/5724) :: min_score 8948.178203363865\n",
      "Chain: polygon\n"
     ]
    },
    {
     "data": {
      "application/vnd.jupyter.widget-view+json": {
       "model_id": "",
       "version_major": 2,
       "version_minor": 0
      },
      "text/plain": [
       "  0%|          | 0/247 [00:00<?, ?it/s]"
      ]
     },
     "metadata": {},
     "output_type": "display_data"
    },
    {
     "name": "stdout",
     "output_type": "stream",
     "text": [
      "\tCWETHLP (1391/235) :: min_score 1.9403659978789478e-06\n"
     ]
    },
    {
     "data": {
      "application/vnd.jupyter.widget-view+json": {
       "model_id": "",
       "version_major": 2,
       "version_minor": 0
      },
      "text/plain": [
       "  0%|          | 0/4692 [00:00<?, ?it/s]"
      ]
     },
     "metadata": {},
     "output_type": "display_data"
    },
    {
     "name": "stdout",
     "output_type": "stream",
     "text": [
      "\tCUSDCLP (1391/4636) :: min_score 5609.136987189543\n",
      "Chain: optimism\n"
     ]
    },
    {
     "data": {
      "application/vnd.jupyter.widget-view+json": {
       "model_id": "",
       "version_major": 2,
       "version_minor": 0
      },
      "text/plain": [
       "  0%|          | 0/395 [00:00<?, ?it/s]"
      ]
     },
     "metadata": {},
     "output_type": "display_data"
    },
    {
     "name": "stdout",
     "output_type": "stream",
     "text": [
      "\tCWETHLP (1391/387) :: min_score 1.8911427650463828e-07\n"
     ]
    },
    {
     "data": {
      "application/vnd.jupyter.widget-view+json": {
       "model_id": "",
       "version_major": 2,
       "version_minor": 0
      },
      "text/plain": [
       "  0%|          | 0/2097 [00:00<?, ?it/s]"
      ]
     },
     "metadata": {},
     "output_type": "display_data"
    },
    {
     "name": "stdout",
     "output_type": "stream",
     "text": [
      "\tCUSDCLP (1391/2065) :: min_score 554.2553740240724\n",
      "Chain: bnb_chain\n"
     ]
    },
    {
     "data": {
      "application/vnd.jupyter.widget-view+json": {
       "model_id": "",
       "version_major": 2,
       "version_minor": 0
      },
      "text/plain": [
       "  0%|          | 0/148 [00:00<?, ?it/s]"
      ]
     },
     "metadata": {},
     "output_type": "display_data"
    },
    {
     "name": "stdout",
     "output_type": "stream",
     "text": [
      "\tCWETHLP (1391/128) :: min_score 4.588059701492538e-05\n"
     ]
    },
    {
     "data": {
      "application/vnd.jupyter.widget-view+json": {
       "model_id": "",
       "version_major": 2,
       "version_minor": 0
      },
      "text/plain": [
       "  0%|          | 0/1252 [00:00<?, ?it/s]"
      ]
     },
     "metadata": {},
     "output_type": "display_data"
    },
    {
     "name": "stdout",
     "output_type": "stream",
     "text": [
      "\tCUSDCLP (1391/1233) :: min_score 0.00035000000000000016\n",
      "Chain: gnosis\n"
     ]
    },
    {
     "data": {
      "application/vnd.jupyter.widget-view+json": {
       "model_id": "",
       "version_major": 2,
       "version_minor": 0
      },
      "text/plain": [
       "  0%|          | 0/65 [00:00<?, ?it/s]"
      ]
     },
     "metadata": {},
     "output_type": "display_data"
    },
    {
     "name": "stdout",
     "output_type": "stream",
     "text": [
      "\tCWETHLP (1391/64) :: min_score 4.588059701492538e-05\n"
     ]
    },
    {
     "data": {
      "application/vnd.jupyter.widget-view+json": {
       "model_id": "",
       "version_major": 2,
       "version_minor": 0
      },
      "text/plain": [
       "  0%|          | 0/994 [00:00<?, ?it/s]"
      ]
     },
     "metadata": {},
     "output_type": "display_data"
    },
    {
     "name": "stdout",
     "output_type": "stream",
     "text": [
      "\tCUSDCLP (1391/985) :: min_score 1.2210526315789477e-05\n"
     ]
    }
   ],
   "source": [
    "for chain in wallets.keys():\n",
    "    print(f\"Chain: {chain}\")\n",
    "    for token in [Token.CWETHLP, Token.CUSDCLP]:\n",
    "        scores = get_scores_by_chain_token(\n",
    "            chain=chain, token=token, resample_method=\"last\")\n",
    "        n_qualified = round(threshold * len(tmp))\n",
    "        qualified = scores.iloc[:n_qualified]\n",
    "        min_score = qualified.values[-1]\n",
    "        \n",
    "        print(f\"\\t{token} ({n_qualified}/{len(scores)}) :: min_score {min_score}\")"
   ]
  },
  {
   "cell_type": "markdown",
   "id": "efcaa51b-d8ae-4fa0-983a-bb0acc36370b",
   "metadata": {},
   "source": [
    "### Ranking without averages"
   ]
  },
  {
   "cell_type": "code",
   "execution_count": 195,
   "id": "191dba85-cd9d-4623-a944-90750a9e4d31",
   "metadata": {
    "tags": []
   },
   "outputs": [
    {
     "name": "stdout",
     "output_type": "stream",
     "text": [
      "Applying filter with minimum USDC of 10.0\n",
      "Applying filter with minimum WETH of 0.001\n",
      "\n",
      "Chain: arbitrum_one\n",
      "Lowest CWETHLP amount to reach top 30% [832/5907] : 0.3205321513419961\n",
      "  3132 (53.02%) holders are removed for providing less than minimum amount\n",
      "Lowest CUSDCLP amount to reach top 30% [859/4341] : 1066.106072987634\n",
      "  1479 (34.07%) holders are removed for providing less than minimum amount\n",
      "\n",
      "Chain: polygon\n",
      "Lowest CWETHLP amount to reach top 30% [46/188] : 1.0251056540850008\n",
      "  33 (17.55%) holders are removed for providing less than minimum amount\n",
      "Lowest CUSDCLP amount to reach top 30% [584/3600] : 1032.8729423062655\n",
      "  1655 (45.97%) holders are removed for providing less than minimum amount\n",
      "\n",
      "Chain: optimism\n",
      "Lowest CWETHLP amount to reach top 30% [80/322] : 1.026323028733804\n",
      "  55 (17.08%) holders are removed for providing less than minimum amount\n",
      "Lowest CUSDCLP amount to reach top 30% [328/1572] : 1551.215864054076\n",
      "  477 (30.34%) holders are removed for providing less than minimum amount\n",
      "\n",
      "Chain: bnb_chain\n",
      "Lowest CWETHLP amount to reach top 30% [26/103] : 2.00422460204386\n",
      "  15 (14.56%) holders are removed for providing less than minimum amount\n",
      "Lowest CUSDCLP amount to reach top 30% [173/736] : 2187.3840699571538\n",
      "  160 (21.74%) holders are removed for providing less than minimum amount\n",
      "\n",
      "Chain: gnosis\n",
      "Lowest CWETHLP amount to reach top 30% [15/57] : 2.4422143278183617\n",
      "  6 (10.53%) holders are removed for providing less than minimum amount\n",
      "Lowest CUSDCLP amount to reach top 30% [97/387] : 2484.959710756972\n",
      "  65 (16.80%) holders are removed for providing less than minimum amount\n",
      "\n"
     ]
    }
   ],
   "source": [
    "# min_value_usdc = 0.\n",
    "# min_value_weth = 0.\n",
    "\n",
    "min_value_usdc = 10.\n",
    "min_value_weth = 0.001\n",
    "\n",
    "epsilon = 1e-10  # floating point error\n",
    "\n",
    "print(f\"Applying filter with minimum USDC of {min_value_usdc}\")\n",
    "print(f\"Applying filter with minimum WETH of {min_value_weth}\\n\")\n",
    "\n",
    "for chain in wallets.keys():\n",
    "    print(f\"Chain: {chain}\")\n",
    "    for token in [Token.CWETHLP, Token.CUSDCLP]:\n",
    "        df = get_top_lp_holders_by_pool_and_chain(lp_txs, chain, token)\n",
    "        df = df[df > epsilon]\n",
    "        n_ori_lp = len(df)\n",
    "        if token == Token.CUSDCLP:\n",
    "            df = df[df >= min_value_usdc]\n",
    "        elif token == Token.CWETHLP:\n",
    "            df = df[df >= min_value_weth]\n",
    "        n_filtered_lp = len(df)\n",
    "        candidates = df.iloc[:round(threshold * len(df))]\n",
    "        min_value = candidates.values[-1]\n",
    "        print(f\"Lowest {token} amount to reach top 30% [{len(candidates)}/{n_ori_lp}] : {min_value}\")\n",
    "        \n",
    "        n_removed = n_ori_lp - n_filtered_lp\n",
    "        if n_removed > 0:\n",
    "            print(f\"  {n_removed} ({n_removed*100/n_ori_lp:.2f}%) holders are removed for providing less than minimum amount\")\n",
    "    print()"
   ]
  },
  {
   "cell_type": "markdown",
   "id": "b8784328-549a-4503-929f-61678638d62c",
   "metadata": {},
   "source": [
    "### Calculating Scores"
   ]
  },
  {
   "cell_type": "code",
   "execution_count": 298,
   "id": "745b508d-5ca5-4664-8c22-05779c6d5c66",
   "metadata": {},
   "outputs": [],
   "source": [
    "wallet = \"0x26daee818a1e38a46825fafb8a729a1c021cc726\".lower()\n",
    "# wallet = \"0x0a9a04f289e1237c978d9ed375eeebda73ee97b1\"\n",
    "# wallet = \"0x13daf15e66e6214a1645413f3d858d3947f5900a\".lower()\n",
    "chain = Chain.POLYGON\n",
    "token = Token.CUSDCLP"
   ]
  },
  {
   "cell_type": "code",
   "execution_count": 299,
   "id": "a6c99204-0905-486f-be73-cd2ad3b95538",
   "metadata": {
    "tags": []
   },
   "outputs": [
    {
     "name": "stdout",
     "output_type": "stream",
     "text": [
      "Wallet 0x26daee818a1e38a46825fafb8a729a1c021cc726:\n",
      "Total of 584 wallets, you are at rank 9 (Top 1.54%)\n",
      "Liquidity provided amount: 11702.100333601102 CUSDCLP (minimum at 1032.8729423062655 CUSDCLP)\n",
      "\n",
      ">>NOTE: Applying filter at 10.0 CUSDCLP\n"
     ]
    }
   ],
   "source": [
    "min_filter = 0.001 if token == Token.CWETHLP else 10.\n",
    "# min_filter = 0.\n",
    "\n",
    "df = get_top_lp_holders_by_pool_and_chain(lp_txs, chain, token)\n",
    "df = df[df > min_filter]\n",
    "df = df[:round(len(df) * threshold)]\n",
    "\n",
    "for i, (_addr, _amt) in enumerate(df.items()):\n",
    "    if _addr == wallet.lower():\n",
    "        print(f\"Wallet {wallet}:\")\n",
    "        print(f\"Total of {len(df)} wallets, you are at rank {i+1} (Top {((i+1)*100/len(df)):.2f}%)\")\n",
    "        print(f\"Liquidity provided amount: {_amt} {token} (minimum at {df.values[-1]} {token})\")\n",
    "        if min_filter > 0:\n",
    "            print(f\"\\n>>NOTE: Applying filter at {min_filter} {token}\")"
   ]
  },
  {
   "cell_type": "markdown",
   "id": "149c187a-17c4-47bd-a587-6491ce5edf5e",
   "metadata": {
    "jp-MarkdownHeadingCollapsed": true,
    "tags": []
   },
   "source": [
    "# `xcall` Analysis"
   ]
  },
  {
   "cell_type": "code",
   "execution_count": null,
   "id": "6e6dff36-d9ef-4e6a-b995-bcc2fa473ff8",
   "metadata": {},
   "outputs": [],
   "source": []
  }
 ],
 "metadata": {
  "kernelspec": {
   "display_name": "Python 3 (ipykernel)",
   "language": "python",
   "name": "python3"
  },
  "language_info": {
   "codemirror_mode": {
    "name": "ipython",
    "version": 3
   },
   "file_extension": ".py",
   "mimetype": "text/x-python",
   "name": "python",
   "nbconvert_exporter": "python",
   "pygments_lexer": "ipython3",
   "version": "3.10.9"
  }
 },
 "nbformat": 4,
 "nbformat_minor": 5
}
