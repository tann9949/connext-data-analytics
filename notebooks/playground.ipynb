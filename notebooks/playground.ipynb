{
 "cells": [
  {
   "cell_type": "code",
   "execution_count": 1,
   "id": "993174c2-5e1f-4143-a77f-55c0b38dbdb6",
   "metadata": {},
   "outputs": [
    {
     "name": "stdout",
     "output_type": "stream",
     "text": [
      "/Users/chompk.visai/Works/cdao/connext/connext-galxe-analytics\n"
     ]
    }
   ],
   "source": [
    "%reload_ext autoreload\n",
    "%autoreload 2\n",
    "\n",
    "%cd /Users/chompk.visai/Works/cdao/connext/connext-galxe-analytics/"
   ]
  },
  {
   "cell_type": "code",
   "execution_count": 2,
   "id": "d88b9366-470d-4581-a001-0da7ffe66748",
   "metadata": {},
   "outputs": [
    {
     "data": {
      "text/plain": [
       "True"
      ]
     },
     "execution_count": 2,
     "metadata": {},
     "output_type": "execute_result"
    }
   ],
   "source": [
    "import logging\n",
    "\n",
    "from dotenv import load_dotenv\n",
    "from omegaconf import OmegaConf\n",
    "\n",
    "from api.connext import ConnextAPI\n",
    "from api.constant import Chain\n",
    "from api.scan import ScanAPI\n",
    "load_dotenv(\".env\")"
   ]
  },
  {
   "cell_type": "code",
   "execution_count": 3,
   "id": "4353c11d-3356-4f48-a565-c310b26d97fe",
   "metadata": {
    "tags": []
   },
   "outputs": [],
   "source": [
    "logging.basicConfig(level=logging.INFO)"
   ]
  },
  {
   "cell_type": "code",
   "execution_count": 4,
   "id": "4eb039a2-56fd-42a1-bbd4-bcdde4b1f299",
   "metadata": {
    "tags": []
   },
   "outputs": [],
   "source": [
    "cfg = OmegaConf.load(\"conf/networks.yaml\")\n",
    "api = ConnextAPI(data_dir=\"data\")"
   ]
  },
  {
   "cell_type": "code",
   "execution_count": 17,
   "id": "7fe7034a-629d-4da6-a192-79a21081472e",
   "metadata": {
    "tags": []
   },
   "outputs": [
    {
     "name": "stderr",
     "output_type": "stream",
     "text": [
      "INFO:root:Loading cache\n",
      "INFO:root:Cache found, loading cache\n",
      "INFO:root:Latest block number on ethereum: 16604141\n",
      "INFO:root:Latest block number on bnb_chain: 25569167\n",
      "INFO:root:Latest block number on polygon: 39165281\n",
      "INFO:root:Latest block number on optimism: 73629300\n",
      "INFO:root:Latest block number on gnosis: 26421076\n",
      "INFO:root:Latest block number on arbitrum_one: 59924891\n",
      "INFO:root:Loading transactions from scan API\n",
      "INFO:root:Number of new transactions on ethereum: 0\n",
      "INFO:root:Number of new transactions on bnb_chain: 0\n",
      "INFO:root:Number of new transactions on polygon: 0\n",
      "INFO:root:Number of new transactions on optimism: 0\n",
      "INFO:root:Number of new transactions on gnosis: 0\n",
      "INFO:root:Number of new transactions on arbitrum_one: 0\n",
      "INFO:root:No new transactions, returning cache\n"
     ]
    }
   ],
   "source": [
    "txs = api.load_txs()"
   ]
  },
  {
   "cell_type": "code",
   "execution_count": 29,
   "id": "97bfba4a-6320-407e-b91f-1301fd16d0f4",
   "metadata": {
    "tags": []
   },
   "outputs": [
    {
     "data": {
      "text/plain": [
       "{'ethereum': [('xcall', 208),\n",
       "  ('xcallIntoLocal', 119),\n",
       "  ('bumpTransfer', 44),\n",
       "  ('addRouterLiquidityFor', 28),\n",
       "  ('execute', 23),\n",
       "  ('approveRouter', 13),\n",
       "  ('addRelayer', 10),\n",
       "  ('removeRouterLiquidity', 6),\n",
       "  ('initializeRouter', 6),\n",
       "  ('enrollRemoteRouter', 5),\n",
       "  ('updateLiquidityCap', 5),\n",
       "  ('removeRouterLiquidityFor', 5),\n",
       "  ('setupAsset', 4),\n",
       "  ('assignRoleAdmin', 2),\n",
       "  ('atInversebrah', 1),\n",
       "  ('proposeDiamondCut', 1),\n",
       "  ('addSequencer', 1),\n",
       "  ('setRelayerFeeVault', 1),\n",
       "  ('assignRoleWatcher', 1),\n",
       "  ('proposeNewOwner', 1),\n",
       "  ('pause', 1),\n",
       "  ('unpause', 1),\n",
       "  ('assignRoleRouterAdmin', 1)],\n",
       " 'bnb_chain': [('xcall', 1053),\n",
       "  ('addSwapLiquidity', 327),\n",
       "  ('swap', 250),\n",
       "  ('removeSwapLiquidity', 50),\n",
       "  ('bumpTransfer', 48),\n",
       "  ('xcallIntoLocal', 30),\n",
       "  ('addRouterLiquidityFor', 29),\n",
       "  ('execute', 13),\n",
       "  ('addRelayer', 10),\n",
       "  ('approveRouter', 10),\n",
       "  ('initializeRouter', 6),\n",
       "  ('enrollRemoteRouter', 5),\n",
       "  ('setupAsset', 4),\n",
       "  ('removeRouterLiquidity', 4),\n",
       "  ('initializeSwap', 3),\n",
       "  ('removeRouterLiquidityFor', 3),\n",
       "  ('atInversebrah', 1),\n",
       "  ('proposeDiamondCut', 1),\n",
       "  ('addSequencer', 1),\n",
       "  ('setRelayerFeeVault', 1),\n",
       "  ('disableSwap', 1),\n",
       "  ('assignRoleWatcher', 1),\n",
       "  ('removeSwap', 1),\n",
       "  ('assignRoleAdmin', 1),\n",
       "  ('proposeNewOwner', 1),\n",
       "  ('pause', 1),\n",
       "  ('unpause', 1),\n",
       "  ('assignRoleRouterAdmin', 1)],\n",
       " 'polygon': [('swap', 3316),\n",
       "  ('addSwapLiquidity', 3019),\n",
       "  ('xcall', 2782),\n",
       "  ('removeSwapLiquidity', 125),\n",
       "  ('bumpTransfer', 92),\n",
       "  ('xcallIntoLocal', 58),\n",
       "  ('approve', 53),\n",
       "  ('execute', 51),\n",
       "  ('addRouterLiquidityFor', 34),\n",
       "  ('addRelayer', 10),\n",
       "  ('approveRouter', 10),\n",
       "  ('initializeRouter', 6),\n",
       "  ('removeRouterLiquidityFor', 6),\n",
       "  ('enrollRemoteRouter', 5),\n",
       "  ('setupAsset', 4),\n",
       "  ('removeRouterLiquidity', 4),\n",
       "  ('initializeSwap', 3),\n",
       "  ('forceReceiveLocal', 3),\n",
       "  ('atInversebrah', 1),\n",
       "  ('setupAssetWithDeployedRepresentation', 1),\n",
       "  ('addSequencer', 1),\n",
       "  ('setRelayerFeeVault', 1),\n",
       "  ('disableSwap', 1),\n",
       "  ('assignRoleWatcher', 1),\n",
       "  ('forceUpdateSlippage', 1),\n",
       "  ('removeSwap', 1),\n",
       "  ('assignRoleAdmin', 1),\n",
       "  ('proposeNewOwner', 1),\n",
       "  ('pause', 1),\n",
       "  ('unpause', 1),\n",
       "  ('assignRoleRouterAdmin', 1)],\n",
       " 'optimism': [('xcall', 1228),\n",
       "  ('addSwapLiquidity', 913),\n",
       "  ('swap', 868),\n",
       "  ('removeSwapLiquidity', 101),\n",
       "  ('bumpTransfer', 77),\n",
       "  ('xcallIntoLocal', 68),\n",
       "  ('addRouterLiquidityFor', 23),\n",
       "  ('addRelayer', 10),\n",
       "  ('approveRouter', 10),\n",
       "  ('enrollRemoteRouter', 5),\n",
       "  ('initializeRouter', 5),\n",
       "  ('setupAsset', 4),\n",
       "  ('initializeSwap', 4),\n",
       "  ('removeRouterLiquidity', 4),\n",
       "  ('setupAssetWithDeployedRepresentation', 3),\n",
       "  ('updateDetails', 3),\n",
       "  ('removeRouterLiquidityFor', 3),\n",
       "  ('', 2),\n",
       "  ('execute', 2),\n",
       "  ('proposeDiamondCut', 1),\n",
       "  ('addSequencer', 1),\n",
       "  ('setRelayerFeeVault', 1),\n",
       "  ('forceReceiveLocal', 1),\n",
       "  ('disableSwap', 1),\n",
       "  ('assignRoleWatcher', 1),\n",
       "  ('forceUpdateSlippage', 1),\n",
       "  ('removeSwap', 1),\n",
       "  ('assignRoleAdmin', 1),\n",
       "  ('proposeNewOwner', 1),\n",
       "  ('assignRoleRouterAdmin', 1)],\n",
       " 'gnosis': [('xcall', 413),\n",
       "  ('addSwapLiquidity', 131),\n",
       "  ('swap', 102),\n",
       "  ('bumpTransfer', 22),\n",
       "  ('addRouterLiquidityFor', 19),\n",
       "  ('removeSwapLiquidity', 18),\n",
       "  ('xcallIntoLocal', 14),\n",
       "  ('addRelayer', 10),\n",
       "  ('approveRouter', 10),\n",
       "  ('enrollRemoteRouter', 5),\n",
       "  ('setupAsset', 4),\n",
       "  ('removeRouterLiquidity', 4),\n",
       "  ('initializeRouter', 4),\n",
       "  ('forceUpdateSlippage', 4),\n",
       "  ('initializeSwap', 3),\n",
       "  ('forceReceiveLocal', 3),\n",
       "  ('removeRouterLiquidityFor', 3),\n",
       "  ('', 2),\n",
       "  ('addSequencer', 1),\n",
       "  ('setRelayerFeeVault', 1),\n",
       "  ('disableSwap', 1),\n",
       "  ('assignRoleWatcher', 1),\n",
       "  ('removeSwap', 1),\n",
       "  ('assignRoleAdmin', 1),\n",
       "  ('proposeNewOwner', 1),\n",
       "  ('pause', 1),\n",
       "  ('unpause', 1),\n",
       "  ('setRouterRecipient', 1),\n",
       "  ('assignRoleRouterAdmin', 1)],\n",
       " 'arbitrum_one': [('addSwapLiquidity', 3410),\n",
       "  ('swap', 2102),\n",
       "  ('xcall', 1694),\n",
       "  ('removeSwapLiquidity', 305),\n",
       "  ('bumpTransfer', 109),\n",
       "  ('xcallIntoLocal', 37),\n",
       "  ('addRouterLiquidityFor', 28),\n",
       "  ('addRelayer', 10),\n",
       "  ('approveRouter', 10),\n",
       "  ('setupAsset', 7),\n",
       "  ('enrollRemoteRouter', 5),\n",
       "  ('initializeRouter', 5),\n",
       "  ('initializeSwap', 3),\n",
       "  ('removeRouterLiquidity', 3),\n",
       "  ('removeRouterLiquidityFor', 3),\n",
       "  ('execute', 2),\n",
       "  ('AtInverseBrah', 1),\n",
       "  ('addSequencer', 1),\n",
       "  ('setRelayerFeeVault', 1),\n",
       "  ('disableSwap', 1),\n",
       "  ('assignRoleWatcher', 1),\n",
       "  ('removeSwap', 1),\n",
       "  ('assignRoleAdmin', 1),\n",
       "  ('proposeNewOwner', 1),\n",
       "  ('pause', 1),\n",
       "  ('unpause', 1),\n",
       "  ('assignRoleRouterAdmin', 1)]}"
      ]
     },
     "execution_count": 29,
     "metadata": {},
     "output_type": "execute_result"
    }
   ],
   "source": [
    "from collections import Counter\n",
    "\n",
    "{chain: Counter([tx.functionName.split(\"(\")[0] for tx in txs[chain]]).most_common() for chain in api.scan_api.keys()}"
   ]
  },
  {
   "cell_type": "code",
   "execution_count": null,
   "id": "78703389-eb45-4d95-906b-80558e9e8fa3",
   "metadata": {},
   "outputs": [],
   "source": []
  }
 ],
 "metadata": {
  "kernelspec": {
   "display_name": "Python 3 (ipykernel)",
   "language": "python",
   "name": "python3"
  },
  "language_info": {
   "codemirror_mode": {
    "name": "ipython",
    "version": 3
   },
   "file_extension": ".py",
   "mimetype": "text/x-python",
   "name": "python",
   "nbconvert_exporter": "python",
   "pygments_lexer": "ipython3",
   "version": "3.10.9"
  }
 },
 "nbformat": 4,
 "nbformat_minor": 5
}
