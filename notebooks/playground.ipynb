{
 "cells": [
  {
   "cell_type": "code",
   "execution_count": 1,
   "id": "993174c2-5e1f-4143-a77f-55c0b38dbdb6",
   "metadata": {},
   "outputs": [
    {
     "name": "stdout",
     "output_type": "stream",
     "text": [
      "/Users/chompk.visai/Works/cdao/connext/connext-galxe-analytics\n"
     ]
    }
   ],
   "source": [
    "%reload_ext autoreload\n",
    "%autoreload 2\n",
    "\n",
    "%cd /Users/chompk.visai/Works/cdao/connext/connext-galxe-analytics/"
   ]
  },
  {
   "cell_type": "code",
   "execution_count": 2,
   "id": "d88b9366-470d-4581-a001-0da7ffe66748",
   "metadata": {},
   "outputs": [
    {
     "data": {
      "text/plain": [
       "True"
      ]
     },
     "execution_count": 2,
     "metadata": {},
     "output_type": "execute_result"
    }
   ],
   "source": [
    "import logging\n",
    "from datetime import datetime, timedelta\n",
    "from typing import Dict, List\n",
    "\n",
    "import numpy as np\n",
    "import pandas as pd\n",
    "from dotenv import load_dotenv\n",
    "\n",
    "from api.connext import ConnextAPI\n",
    "from api.contract import SmartContract\n",
    "from api.constant import Chain\n",
    "from api.token import Token\n",
    "load_dotenv(\".env\")"
   ]
  },
  {
   "cell_type": "markdown",
   "id": "cbef5bda-3948-4729-827e-d0fd2eb45e66",
   "metadata": {
    "tags": []
   },
   "source": [
    "## Define Functions"
   ]
  },
  {
   "cell_type": "code",
   "execution_count": 3,
   "id": "4c408a98-b320-4d0e-8a56-2850c1381283",
   "metadata": {
    "tags": []
   },
   "outputs": [],
   "source": [
    "logging.basicConfig(level=logging.INFO)\n",
    "\n",
    "\n",
    "def unix_to_datetime(ts: int) -> datetime:\n",
    "    return datetime.utcfromtimestamp(int(ts))\n",
    "    \n",
    "\n",
    "def get_abis():\n",
    "    erc20_abi = Token.address_mapper[Chain.GNOSIS][\"canonical\"][Token.USDC].abi\n",
    "    diamond_abi = ConnextAPI().scan_api[Chain.GNOSIS].diamond_contract.abi\n",
    "    return erc20_abi + diamond_abi\n",
    "\n",
    "\n",
    "def get_topic_resolver():\n",
    "    diamond = ConnextAPI().scan_api[Chain.GNOSIS].diamond_contract\n",
    "    \n",
    "    topic2sig = {}\n",
    "    for abi in get_abis():\n",
    "        name = abi[\"name\"]\n",
    "        inputs = \",\".join([_item[\"type\"] for _item in abi[\"inputs\"]])\n",
    "        sig = f\"{name}({inputs})\"\n",
    "        topic_id = diamond.provider.toHex(diamond.provider.keccak(text=sig))\n",
    "\n",
    "        topic2sig[topic_id] = [name] + [_item[\"type\"] for _item in abi[\"inputs\"]]\n",
    "    return topic2sig\n",
    "\n",
    "\n",
    "def get_liquidity_txs(\n",
    "    chains: List[Chain] = [Chain.POLYGON, Chain.ARBITRUM_ONE, Chain.BNB_CHAIN, Chain.GNOSIS, Chain.OPTIMISM],\n",
    "    filter_topics: List[str] = [\"Transfer\"],\n",
    "    filter_function: List[str] = [\"addSwapLiquidity\", \"removeSwapLiquidity\"],\n",
    "    blacklist_token: List[str] = [],) -> pd.DataFrame:\n",
    "    \"\"\"Get txs involved with add/remove stable liquidity\"\"\"\n",
    "    liquidity_txs = []\n",
    "    topic2sig = get_topic_resolver()\n",
    "\n",
    "    # iterate over chains that support liquidity providing\n",
    "    for chain in chains:\n",
    "        provider = SmartContract.get_default_provider(chain)\n",
    "        # iterate over txn\n",
    "        for tx in data[chain]:\n",
    "            # skip transactions that aren't liquidity providing related\n",
    "            fn_name = tx.functionName.split(\"(\")[0]\n",
    "            if fn_name not in filter_function:\n",
    "                continue\n",
    "\n",
    "            for _log in tx.logs:\n",
    "                topic, *topic_args = _log[\"topics\"]\n",
    "                topic_items = topic2sig.get(topic)\n",
    "\n",
    "                # skip unknown topic name\n",
    "                if topic_items is None:\n",
    "                    continue\n",
    "\n",
    "                topic_name, *topic_params = topic_items\n",
    "\n",
    "                # filter unwanted topic\n",
    "                if topic_name not in filter_topics:\n",
    "                    continue\n",
    "\n",
    "                # skip blacklist address\n",
    "                if _log[\"address\"].lower() in list(map(lambda x: x.lower(), blacklist_token)):\n",
    "                    continue\n",
    "\n",
    "                # for Transfer\n",
    "                sender, receiver = topic_args\n",
    "                sender = hex(int(sender, 16))\n",
    "                receiver = hex(int(receiver, 16))\n",
    "                token = Token.address_lookup(_log[\"address\"], chain)\n",
    "                amount = int(_log[\"data\"], 16) / (10**token.decimal)\n",
    "\n",
    "                if sender == \"0x0\":\n",
    "                    action = \"mint\"\n",
    "                    user = receiver\n",
    "                elif receiver == \"0x0\":\n",
    "                    action = \"burn\"\n",
    "                    user = sender\n",
    "                else:\n",
    "                    # let's focus on mint/burn count\n",
    "                    # as criteria will be selected \n",
    "                    # based on CLP anyway\n",
    "                    continue\n",
    "\n",
    "                liquidity_txs.append({\n",
    "                    \"chain\": chain,\n",
    "                    \"tx_hash\": tx.hash,\n",
    "                    \"sender\": sender,\n",
    "                    \"receiver\": receiver,\n",
    "                    \"token\": token.symbol,\n",
    "                    \"amount\": amount,\n",
    "                    \"action\": action,\n",
    "                    \"fn_name\": fn_name,\n",
    "                    \"user\": user,\n",
    "                    \"timestamp\": int(tx.timeStamp)\n",
    "                })\n",
    "\n",
    "    liquidity_txs = pd.DataFrame(liquidity_txs).sort_values(\"timestamp\")\n",
    "    liquidity_txs[\"balance_change\"] = liquidity_txs[\"amount\"] * liquidity_txs[\"action\"].map(lambda x: -1 if x == \"burn\" else 1)\n",
    "    liquidity_txs[\"time\"] = liquidity_txs[\"timestamp\"].map(unix_to_datetime)\n",
    "    liquidity_txs = liquidity_txs.drop(\"timestamp\", axis=1).set_index(\"time\").sort_index()\n",
    "    return liquidity_txs"
   ]
  },
  {
   "cell_type": "markdown",
   "id": "bdf290c2-86e3-4bc1-a32d-247ad7845cbe",
   "metadata": {},
   "source": [
    "## Loading Data"
   ]
  },
  {
   "cell_type": "code",
   "execution_count": 4,
   "id": "4eb039a2-56fd-42a1-bbd4-bcdde4b1f299",
   "metadata": {},
   "outputs": [],
   "source": [
    "api = ConnextAPI(data_dir=\"data\")\n",
    "data = api.load_cache()"
   ]
  },
  {
   "cell_type": "code",
   "execution_count": 5,
   "id": "c27f89d6-d94a-4776-aa98-914b1f843e30",
   "metadata": {
    "tags": []
   },
   "outputs": [],
   "source": [
    "blacklist_token = [\n",
    "    \"0x36955Fb4Ba3618d5a13701f9bb4c2d17436Ca189\",  # deprecated polygon CUSDCLP\n",
    "    \"0x9890b51b117f765e9148A12902B0945Fa6d285E5\",  # deprecated arbitrum CUSDCLP\n",
    "    \"0xFcc933039AC59F8F16d18B61d99D75fE60A055e3\",  # deprecated BNB Chain CUSDCLP\n",
    "    \"0x1AF1b21323dB137603FC9eA8848053647B2C5B37\",  # deprecated Gnosis CUSDCLP\n",
    "    \"0x0EB37a910Cb5ac05Ed85C3Be5c2Af5dAf13311B9\",  # deprecated optimism CUSDCLP\n",
    "]\n",
    "liquidity_txs = get_liquidity_txs(blacklist_token=blacklist_token)"
   ]
  },
  {
   "cell_type": "code",
   "execution_count": 10,
   "id": "12742482-8eb5-45e1-9043-24903af10f3d",
   "metadata": {
    "tags": []
   },
   "outputs": [],
   "source": [
    "def in_date(time: datetime, date: str) -> bool:\n",
    "    min_dt = datetime.strptime(date, \"%Y-%m-%d\")\n",
    "    max_dt = min_dt + timedelta(hours=24)\n",
    "    return min_dt <= time < max_dt\n",
    "\n",
    "\n",
    "def get_daily_txn(df: pd.DataFrame, chain: Chain, date: str) -> pd.DataFrame:\n",
    "    \"\"\"Filter transactions for each specific chain and date.\n",
    "    Date should be in DD-MM-YYYY format\"\"\"\n",
    "    df = df[df[\"chain\"] == chain]\n",
    "    return df[df.index.map(lambda x: in_date(x, date=date))]\n",
    "\n",
    "\n",
    "def get_unique_wallets(df: pd.DataFrame) -> Dict[str, List[str]]:\n",
    "    wallets = {chain: [] for chain in liquidity_txs[\"chain\"].value_counts().index}\n",
    "\n",
    "    for chain in df[\"chain\"].value_counts().index:\n",
    "        wallets[chain] = [\n",
    "            _wallet for _wallet\n",
    "            in df[df[\"chain\"] == chain][\"user\"].value_counts().index.tolist()\n",
    "            if len(_wallet) > 3]\n",
    "        \n",
    "    return wallets\n",
    "\n",
    "\n",
    "def get_top_lp_holders(df: pd.DataFrame, chain: Chain, token: Token) -> pd.Series:\n",
    "    is_correct_chain = df[\"chain\"] == chain\n",
    "    is_correct_token = df[\"token\"] == token\n",
    "    is_mint_and_burn = df[\"action\"].isin([\"mint\", \"burn\"])\n",
    "    df_filter = is_correct_chain & is_correct_token & is_mint_and_burn\n",
    "    return df[df_filter].groupby([\"user\"])[\"balance_change\"].sum().sort_values(ascending=False)"
   ]
  },
  {
   "cell_type": "code",
   "execution_count": 11,
   "id": "3ebc675a-d228-4f85-a247-f6d493228562",
   "metadata": {
    "tags": []
   },
   "outputs": [],
   "source": [
    "dates = list({_item.strftime(\"%Y-%m-%d\") for _item in liquidity_txs.index})\n",
    "wallets = get_unique_wallets(liquidity_txs)"
   ]
  },
  {
   "cell_type": "code",
   "execution_count": 12,
   "id": "ddabc4e1-7213-4f32-8ea1-0ccc40020f0f",
   "metadata": {
    "tags": []
   },
   "outputs": [
    {
     "data": {
      "text/plain": [
       "{'arbitrum_one': 4061,\n",
       " 'polygon': 1989,\n",
       " 'optimism': 921,\n",
       " 'bnb_chain': 364,\n",
       " 'gnosis': 119}"
      ]
     },
     "execution_count": 12,
     "metadata": {},
     "output_type": "execute_result"
    }
   ],
   "source": [
    "{_chain: len(addrs) for _chain, addrs in wallets.items()}"
   ]
  },
  {
   "cell_type": "markdown",
   "id": "621c6923-8a48-4660-8a4b-206169399f5d",
   "metadata": {},
   "source": [
    "Number of unique addresses for each chain"
   ]
  },
  {
   "cell_type": "code",
   "execution_count": 29,
   "id": "191dba85-cd9d-4623-a944-90750a9e4d31",
   "metadata": {
    "tags": []
   },
   "outputs": [
    {
     "name": "stdout",
     "output_type": "stream",
     "text": [
      "Applying filter with minimum USDC of 10.0\n",
      "Applying filter with minimum WETH of 0.001\n",
      "\n",
      "Chain: arbitrum_one\n",
      "Lowest CWETHLP amount to reach top 30% : 0.08226086952516609\n",
      "  966 (47.85%) holders are removed for providing less than minimum amount\n",
      "Lowest CUSDCLP amount to reach top 30% : 299.32295178680386\n",
      "  1209 (54.73%) holders are removed for providing less than minimum amount\n",
      "\n",
      "Chain: polygon\n",
      "Lowest CWETHLP amount to reach top 30% : 0.63730954798902\n",
      "  29 (34.12%) holders are removed for providing less than minimum amount\n",
      "Lowest CUSDCLP amount to reach top 30% : 268.92750593583634\n",
      "  1604 (83.02%) holders are removed for providing less than minimum amount\n",
      "\n",
      "Chain: optimism\n",
      "Lowest CWETHLP amount to reach top 30% : 0.5032087896373102\n",
      "  64 (38.10%) holders are removed for providing less than minimum amount\n",
      "Lowest CUSDCLP amount to reach top 30% : 269.15846310780194\n",
      "  535 (65.40%) holders are removed for providing less than minimum amount\n",
      "\n",
      "Chain: bnb_chain\n",
      "Lowest CWETHLP amount to reach top 30% : 0.5999111780405552\n",
      "  12 (28.57%) holders are removed for providing less than minimum amount\n",
      "Lowest CUSDCLP amount to reach top 30% : 499.9776857449007\n",
      "  153 (45.81%) holders are removed for providing less than minimum amount\n",
      "\n",
      "Chain: gnosis\n",
      "Lowest CWETHLP amount to reach top 30% : 0.588575767407189\n",
      "  5 (17.24%) holders are removed for providing less than minimum amount\n",
      "Lowest CUSDCLP amount to reach top 30% : 1322.2120742332181\n",
      "  46 (45.10%) holders are removed for providing less than minimum amount\n",
      "\n"
     ]
    }
   ],
   "source": [
    "threshold = 0.3\n",
    "min_value_usdc = 10.\n",
    "min_value_weth = 0.001\n",
    "\n",
    "print(f\"Applying filter with minimum USDC of {min_value_usdc}\")\n",
    "print(f\"Applying filter with minimum WETH of {min_value_weth}\\n\")\n",
    "\n",
    "for chain in wallets.keys():\n",
    "    print(f\"Chain: {chain}\")\n",
    "    for token in [Token.CWETHLP, Token.CUSDCLP]:\n",
    "        df = get_top_lp_holders(liquidity_txs, chain, token)\n",
    "        n_ori_lp = len(df)\n",
    "        if token == Token.CUSDCLP:\n",
    "            df = df[df >= min_value_usdc]\n",
    "        elif token == Token.CWETHLP:\n",
    "            df = df[df >= min_value_weth]\n",
    "        n_filtered_lp = len(df)\n",
    "        min_value = df.iloc[:round(threshold * len(df))].values[-1]\n",
    "        print(f\"Lowest {token} amount to reach top 30% : {min_value}\")\n",
    "        \n",
    "        n_removed = n_ori_lp - n_filtered_lp\n",
    "        print(f\"  {n_removed} ({n_removed*100/n_ori_lp:.2f}%) holders are removed for providing less than minimum amount\")\n",
    "    print()"
   ]
  },
  {
   "cell_type": "code",
   "execution_count": null,
   "id": "745b508d-5ca5-4664-8c22-05779c6d5c66",
   "metadata": {},
   "outputs": [],
   "source": []
  }
 ],
 "metadata": {
  "kernelspec": {
   "display_name": "Python 3 (ipykernel)",
   "language": "python",
   "name": "python3"
  },
  "language_info": {
   "codemirror_mode": {
    "name": "ipython",
    "version": 3
   },
   "file_extension": ".py",
   "mimetype": "text/x-python",
   "name": "python",
   "nbconvert_exporter": "python",
   "pygments_lexer": "ipython3",
   "version": "3.10.9"
  }
 },
 "nbformat": 4,
 "nbformat_minor": 5
}
